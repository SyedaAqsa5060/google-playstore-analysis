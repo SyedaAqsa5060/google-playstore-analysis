{
 "cells": [
  {
   "cell_type": "markdown",
   "id": "ad3486e5",
   "metadata": {},
   "source": [
    "# EDA on Google Play Store Apps Dataset — Market Trends & Insights\n",
    "##  complete EDA Analysis form begginer to advance "
   ]
  },
  {
   "cell_type": "markdown",
   "id": "7693e141",
   "metadata": {},
   "source": [
    " Dataset Description:\n",
    "The Google Play Store Apps dataset offers a comprehensive view of the mobile applications available on the Google Play Store. It captures a snapshot of app information such as user ratings, number of installs, app pricing, category, and content rating. The dataset is useful for analyzing market trends, user behavior, and app popularity, and is widely used in data science projects for cleaning, visualization, and modeling practice."
   ]
  },
  {
   "cell_type": "markdown",
   "id": "108beccb",
   "metadata": {},
   "source": [
    " Dataset Overview\n",
    "Total Rows: 10,000+\n",
    "\n",
    "Columns: 13\n",
    "\n",
    "Source: Kaggle\n",
    "\n",
    "Features: App Name, Category, Rating, Reviews, Installs, Price, Type (Free/Paid), Size, etc.\n",
    "\n"
   ]
  },
  {
   "cell_type": "code",
   "execution_count": null,
   "id": "7ce74c10",
   "metadata": {},
   "outputs": [],
   "source": []
  },
  {
   "cell_type": "markdown",
   "id": "94ac5fe5",
   "metadata": {},
   "source": [
    "# Import Libraries "
   ]
  },
  {
   "cell_type": "code",
   "execution_count": null,
   "id": "141f6647",
   "metadata": {},
   "outputs": [],
   "source": [
    "import pandas as pd\n",
    "import numpy as np\n",
    "import seaborn as sns \n",
    "import matplotlib . pyplot as plt \n",
    "%matplotlib inline \n"
   ]
  },
  {
   "cell_type": "markdown",
   "id": "c8aef56d",
   "metadata": {},
   "source": [
    "# load the Data_ set \n",
    "##### * let's load the csv_file "
   ]
  },
  {
   "cell_type": "code",
   "execution_count": null,
   "id": "d611336b",
   "metadata": {},
   "outputs": [],
   "source": [
    "\n",
    "df = pd.read_csv(r\"C:\\Users\\aqso\\OneDrive\\Desktop\\projects\\googleplaystore.csv\")"
   ]
  },
  {
   "cell_type": "markdown",
   "id": "c247637d",
   "metadata": {},
   "source": [
    "#### * let look first five rows of data set "
   ]
  },
  {
   "cell_type": "code",
   "execution_count": null,
   "id": "15d68d3b",
   "metadata": {},
   "outputs": [],
   "source": [
    "df.head(5)"
   ]
  },
  {
   "cell_type": "markdown",
   "id": "a695ebce",
   "metadata": {},
   "source": [
    "#### * set option to be  maximum rows and columns "
   ]
  },
  {
   "cell_type": "code",
   "execution_count": null,
   "id": "97bcdc83",
   "metadata": {},
   "outputs": [],
   "source": [
    "pd.set_option('display.max_columns',None)\n",
    "pd.set_option('display.max_rows',None)\n",
    "# Hide all warnings \n",
    "import warnings\n",
    "warnings.filterwarnings('ignore') "
   ]
  },
  {
   "cell_type": "code",
   "execution_count": null,
   "id": "36543460",
   "metadata": {},
   "outputs": [],
   "source": [
    "df.columns"
   ]
  },
  {
   "cell_type": "code",
   "execution_count": null,
   "id": "db8d2e99",
   "metadata": {},
   "outputs": [],
   "source": [
    "print(f'The number of rows {df.shape[0]}, The number of columns {df.shape[1]}')"
   ]
  },
  {
   "cell_type": "code",
   "execution_count": null,
   "id": "5eee2ea8",
   "metadata": {},
   "outputs": [],
   "source": [
    "df.info()"
   ]
  },
  {
   "cell_type": "code",
   "execution_count": null,
   "id": "76c52460",
   "metadata": {},
   "outputs": [],
   "source": [
    "df.dtypes"
   ]
  },
  {
   "cell_type": "code",
   "execution_count": null,
   "id": "39d43795",
   "metadata": {},
   "outputs": [],
   "source": [
    "df.describe()"
   ]
  },
  {
   "cell_type": "markdown",
   "id": "1d85761c",
   "metadata": {},
   "source": [
    "# conversion of the string type data into the numerical "
   ]
  },
  {
   "cell_type": "markdown",
   "id": "5fec19d5",
   "metadata": {},
   "source": [
    "- first fill the missing then convert the data type "
   ]
  },
  {
   "cell_type": "markdown",
   "id": "0b1cadb9",
   "metadata": {},
   "source": [
    "- find the missing values from the data set "
   ]
  },
  {
   "cell_type": "code",
   "execution_count": null,
   "id": "aac740ae",
   "metadata": {},
   "outputs": [],
   "source": [
    "df.isnull().sum()"
   ]
  },
  {
   "cell_type": "markdown",
   "id": "e7b0c3d5",
   "metadata": {},
   "source": [
    "- 1. rating (column) is the 1474 missing values 15%  now fill this collumns "
   ]
  },
  {
   "cell_type": "code",
   "execution_count": null,
   "id": "ebcdda91",
   "metadata": {},
   "outputs": [],
   "source": [
    "df['Rating'].hist()\n",
    "plt.show()"
   ]
  },
  {
   "cell_type": "markdown",
   "id": "6d07fb90",
   "metadata": {},
   "source": [
    "- show this fig left skwed not symmetric so fill missing values with median"
   ]
  },
  {
   "cell_type": "code",
   "execution_count": null,
   "id": "4a56acba",
   "metadata": {},
   "outputs": [],
   "source": [
    "df['Rating'].fillna(df['Rating'].median(), inplace=True)"
   ]
  },
  {
   "cell_type": "markdown",
   "id": "8961dea6",
   "metadata": {},
   "source": [
    "- missing values of Rating (columns ) with median "
   ]
  },
  {
   "cell_type": "code",
   "execution_count": null,
   "id": "7626a187",
   "metadata": {},
   "outputs": [],
   "source": [
    "df.isnull().sum()"
   ]
  },
  {
   "cell_type": "markdown",
   "id": "f250e6c2",
   "metadata": {},
   "source": [
    "-  Now Type(column) to fill missing values \n",
    "-  find the unique values of this column"
   ]
  },
  {
   "cell_type": "code",
   "execution_count": null,
   "id": "984811db",
   "metadata": {},
   "outputs": [],
   "source": [
    "df['Type'].unique()"
   ]
  },
  {
   "cell_type": "markdown",
   "id": "58a98234",
   "metadata": {},
   "source": [
    "- first replace the ivalid value with nan "
   ]
  },
  {
   "cell_type": "code",
   "execution_count": null,
   "id": "b14d032b",
   "metadata": {},
   "outputs": [],
   "source": [
    "df['Type']= df['Type'].replace('0', np.nan)"
   ]
  },
  {
   "cell_type": "markdown",
   "id": "97f2a561",
   "metadata": {},
   "source": [
    "- replace missing values with mode "
   ]
  },
  {
   "cell_type": "code",
   "execution_count": null,
   "id": "61a14844",
   "metadata": {},
   "outputs": [],
   "source": [
    "df['Type'].fillna(df['Type'].mode()[0], inplace=True)"
   ]
  },
  {
   "cell_type": "markdown",
   "id": "e577b4cd",
   "metadata": {},
   "source": [
    "- check  the null value "
   ]
  },
  {
   "cell_type": "code",
   "execution_count": null,
   "id": "f4f62452",
   "metadata": {},
   "outputs": [],
   "source": [
    "df.isnull().sum()"
   ]
  },
  {
   "cell_type": "markdown",
   "id": "04390efb",
   "metadata": {},
   "source": [
    "- checking the unique values of Type(column)"
   ]
  },
  {
   "cell_type": "code",
   "execution_count": null,
   "id": "251bae80",
   "metadata": {},
   "outputs": [],
   "source": [
    "df['Type'].unique()"
   ]
  },
  {
   "cell_type": "markdown",
   "id": "5d08de30",
   "metadata": {},
   "source": [
    "- Rating column and content rating  column \n",
    "- Rating\n",
    "What it means:\n",
    "⭐ How much users like the app\n",
    "\n",
    "Type: Numeric (e.g., 4.3, 3.9)\n",
    "\n",
    "Given by: Users\n",
    "\n",
    "Use: Measures app quality or satisfaction\n",
    "\n",
    "🔹 Content Rating\n",
    "What it means:\n",
    "🔞 What age group the app is suitable for\n",
    "\n",
    "Type: Category (e.g., Everyone, Teen, Mature 17+)\n",
    "\n",
    "Given by: Google Play\n",
    "\n",
    "Use: Shows age-appropriateness of app content\n",
    "\n"
   ]
  },
  {
   "cell_type": "markdown",
   "id": "abf8c472",
   "metadata": {},
   "source": [
    "- Remane the content Rating with Age group "
   ]
  },
  {
   "cell_type": "code",
   "execution_count": null,
   "id": "19b13a4d",
   "metadata": {},
   "outputs": [],
   "source": [
    "df.rename(columns={'Content Rating': 'Age Group'}, inplace=True)\n",
    "df.columns"
   ]
  },
  {
   "cell_type": "markdown",
   "id": "1426723a",
   "metadata": {},
   "source": [
    "- fill the missing value of Age Group column"
   ]
  },
  {
   "cell_type": "code",
   "execution_count": null,
   "id": "fb76a25d",
   "metadata": {},
   "outputs": [],
   "source": [
    "df['Age Group'].unique()"
   ]
  },
  {
   "cell_type": "markdown",
   "id": "d8f04b36",
   "metadata": {},
   "source": [
    "- count the values of Age Group"
   ]
  },
  {
   "cell_type": "code",
   "execution_count": null,
   "id": "18beb074",
   "metadata": {},
   "outputs": [],
   "source": [
    "df['Age Group'].value_counts(dropna=False)"
   ]
  },
  {
   "cell_type": "markdown",
   "id": "971083e6",
   "metadata": {},
   "source": [
    "- now replace the unrated with nan and fill them "
   ]
  },
  {
   "cell_type": "code",
   "execution_count": null,
   "id": "9c6465c4",
   "metadata": {},
   "outputs": [],
   "source": [
    "df['Age Group']= df['Age Group'].replace('Unrated', np.nan )"
   ]
  },
  {
   "cell_type": "markdown",
   "id": "4a9fbb5f",
   "metadata": {},
   "source": [
    "- fill the most occurance values "
   ]
  },
  {
   "cell_type": "code",
   "execution_count": null,
   "id": "7e5253ca",
   "metadata": {},
   "outputs": [],
   "source": [
    "df['Age Group'].fillna(df['Age Group'].mode()[0], inplace=True) \n"
   ]
  },
  {
   "cell_type": "code",
   "execution_count": null,
   "id": "1b9f4aa3",
   "metadata": {},
   "outputs": [],
   "source": [
    "df['Age Group'].isnull().sum()\n"
   ]
  },
  {
   "cell_type": "code",
   "execution_count": null,
   "id": "2dfbaf29",
   "metadata": {},
   "outputs": [],
   "source": [
    "df.isnull().sum()"
   ]
  },
  {
   "cell_type": "markdown",
   "id": "a7bdd9b3",
   "metadata": {},
   "source": [
    "- Current Ver (column) finds its unique values \n",
    "  "
   ]
  },
  {
   "cell_type": "code",
   "execution_count": null,
   "id": "92d32e9c",
   "metadata": {},
   "outputs": [],
   "source": [
    "df['Current Ver'].unique()"
   ]
  },
  {
   "cell_type": "markdown",
   "id": "c8887fd9",
   "metadata": {},
   "source": [
    "- its  alot of unique values so i decided to drop this \n",
    "- inconsistent and hard to analyze)"
   ]
  },
  {
   "cell_type": "code",
   "execution_count": null,
   "id": "54227529",
   "metadata": {},
   "outputs": [],
   "source": [
    "df.drop('Current Ver', axis=1, inplace=True)"
   ]
  },
  {
   "cell_type": "code",
   "execution_count": null,
   "id": "a9e4a905",
   "metadata": {},
   "outputs": [],
   "source": [
    "df.columns"
   ]
  },
  {
   "cell_type": "code",
   "execution_count": null,
   "id": "4ee6eab7",
   "metadata": {},
   "outputs": [],
   "source": [
    "df['Android Ver'].unique()"
   ]
  },
  {
   "cell_type": "code",
   "execution_count": null,
   "id": "26aa4639",
   "metadata": {},
   "outputs": [],
   "source": [
    "df['Android Ver'].value_counts(dropna=True)"
   ]
  },
  {
   "cell_type": "markdown",
   "id": "a7c497ea",
   "metadata": {},
   "source": [
    "- ✔️ Step 1: Fill all missing values\n",
    "- ✔️ Step 2: Fix data types (convert into numeric or categorical as needed)\n",
    "- ✔️ Step 3: Visualize\n",
    "- ✔️ Step 4: Build ML model\n"
   ]
  },
  {
   "cell_type": "markdown",
   "id": "89776d1a",
   "metadata": {},
   "source": [
    "- change the varies with devices to nan \n",
    "- fill the nan values "
   ]
  },
  {
   "cell_type": "code",
   "execution_count": null,
   "id": "0d037b72",
   "metadata": {},
   "outputs": [],
   "source": [
    "df['Android Ver']=df['Android Ver']. replace('Varies with device' , np.nan)"
   ]
  },
  {
   "cell_type": "code",
   "execution_count": null,
   "id": "64cd9dd0",
   "metadata": {},
   "outputs": [],
   "source": [
    "df['Android Ver'].fillna(df['Android Ver'].mode()[0], inplace=True)"
   ]
  },
  {
   "cell_type": "code",
   "execution_count": null,
   "id": "6151af8a",
   "metadata": {},
   "outputs": [],
   "source": [
    "df['Android Ver'].isnull().sum()"
   ]
  },
  {
   "cell_type": "markdown",
   "id": "8e57cfb8",
   "metadata": {},
   "source": [
    "- check the missing values of whole data set "
   ]
  },
  {
   "cell_type": "code",
   "execution_count": null,
   "id": "360ceadd",
   "metadata": {},
   "outputs": [],
   "source": [
    "df.isnull().sum()"
   ]
  },
  {
   "cell_type": "code",
   "execution_count": null,
   "id": "9bf50ca1",
   "metadata": {},
   "outputs": [],
   "source": [
    "df.dtypes"
   ]
  },
  {
   "cell_type": "markdown",
   "id": "29594493",
   "metadata": {},
   "source": [
    "-------\n",
    "- first step is completed \n",
    "-----"
   ]
  },
  {
   "cell_type": "code",
   "execution_count": null,
   "id": "c70a96c4",
   "metadata": {},
   "outputs": [],
   "source": [
    "df['App'].unique()"
   ]
  },
  {
   "cell_type": "code",
   "execution_count": null,
   "id": "58ce13a1",
   "metadata": {},
   "outputs": [],
   "source": [
    "df['Size'].unique()"
   ]
  },
  {
   "cell_type": "markdown",
   "id": "7dba678a",
   "metadata": {},
   "source": [
    "---\n",
    "###  observation\n",
    "### 1. M\n",
    "### 2. K \n",
    "### 3. varies with device "
   ]
  },
  {
   "cell_type": "markdown",
   "id": "47944ef9",
   "metadata": {},
   "source": [
    "###  Finding the Missing values "
   ]
  },
  {
   "cell_type": "code",
   "execution_count": null,
   "id": "e0e71e9c",
   "metadata": {},
   "outputs": [],
   "source": [
    "df.columns"
   ]
  },
  {
   "cell_type": "code",
   "execution_count": null,
   "id": "2b6c4fe2",
   "metadata": {},
   "outputs": [],
   "source": [
    "df.isnull().sum()"
   ]
  },
  {
   "cell_type": "code",
   "execution_count": null,
   "id": "891f6c87",
   "metadata": {},
   "outputs": [],
   "source": [
    "df['Reviews'].unique"
   ]
  },
  {
   "cell_type": "code",
   "execution_count": null,
   "id": "0fc0eb49",
   "metadata": {},
   "outputs": [],
   "source": [
    "df[df['Reviews'].astype(str).str.contains('[MK]')]\n"
   ]
  },
  {
   "cell_type": "markdown",
   "id": "d14d8e6e",
   "metadata": {},
   "source": [
    "- Drop the misleading row form whole column"
   ]
  },
  {
   "cell_type": "code",
   "execution_count": null,
   "id": "f8a4556f",
   "metadata": {},
   "outputs": [],
   "source": [
    "df.drop(index=10472, inplace=True)\n"
   ]
  },
  {
   "cell_type": "markdown",
   "id": "e8d4721b",
   "metadata": {},
   "source": [
    "- now   there is not problem in Reviews columns "
   ]
  },
  {
   "cell_type": "code",
   "execution_count": null,
   "id": "e1977eff",
   "metadata": {},
   "outputs": [],
   "source": [
    "df['Reviews']=df['Reviews'].astype(int)"
   ]
  },
  {
   "cell_type": "code",
   "execution_count": null,
   "id": "760d36ae",
   "metadata": {},
   "outputs": [],
   "source": [
    "print (df['Reviews'])"
   ]
  },
  {
   "cell_type": "markdown",
   "id": "66e56790",
   "metadata": {},
   "source": [
    "- successfully convreted the Reveiws (string data type to integer data type )"
   ]
  },
  {
   "cell_type": "markdown",
   "id": "dba1a5b7",
   "metadata": {},
   "source": [
    "# size columns conversion into float or int"
   ]
  },
  {
   "cell_type": "code",
   "execution_count": null,
   "id": "e4024e02",
   "metadata": {},
   "outputs": [],
   "source": [
    "df['Size'].unique"
   ]
  },
  {
   "cell_type": "markdown",
   "id": "b43a9c34",
   "metadata": {},
   "source": [
    "- converting the  varies with device to nan "
   ]
  },
  {
   "cell_type": "code",
   "execution_count": null,
   "id": "c60c4328",
   "metadata": {},
   "outputs": [],
   "source": [
    "df['Size']= df['Size'].replace('Varies with device', np.nan)"
   ]
  },
  {
   "cell_type": "markdown",
   "id": "7a6ad3ab",
   "metadata": {},
   "source": [
    "- usnig function "
   ]
  },
  {
   "cell_type": "code",
   "execution_count": null,
   "id": "a0bab5ee",
   "metadata": {},
   "outputs": [],
   "source": [
    "def convert_to_bytes(x):\n",
    "    if pd.isnull(x):\n",
    "        return np.nan\n",
    "    x = x.upper().strip()\n",
    "    if 'M' in x:\n",
    "        return float(x.replace('M', '')) * 1048576  # 1 MB = 1024 * 1024\n",
    "    elif 'K' in x:\n",
    "        return float(x.replace('K', '')) * 1024     # 1 KB = 1024\n",
    "    else:\n",
    "        return np.nan\n",
    "\n",
    "df['Size_bytes'] = df['Size'].apply(convert_to_bytes)\n"
   ]
  },
  {
   "cell_type": "markdown",
   "id": "bfc41948",
   "metadata": {},
   "source": [
    "-  rename the size columns with size _bytes "
   ]
  },
  {
   "cell_type": "code",
   "execution_count": null,
   "id": "c4458156",
   "metadata": {},
   "outputs": [],
   "source": [
    "df.drop(columns=['Size'], inplace= True)\n",
    "df.rename(columns={'Size_inbytes': 'Size'}, inplace= True)"
   ]
  },
  {
   "cell_type": "markdown",
   "id": "45e65a08",
   "metadata": {},
   "source": [
    "df.head()"
   ]
  },
  {
   "cell_type": "code",
   "execution_count": null,
   "id": "0e56ff8d",
   "metadata": {},
   "outputs": [],
   "source": [
    "print(df['Size_bytes'].head())\n",
    "print(df['Size_bytes'].dtype)       # Should be float64\n",
    "print(df['Size_bytes'].isnull().sum())  # Should be 0\n"
   ]
  },
  {
   "cell_type": "markdown",
   "id": "7297c677",
   "metadata": {},
   "source": [
    "- fill the null values"
   ]
  },
  {
   "cell_type": "code",
   "execution_count": null,
   "id": "e9e938a2",
   "metadata": {},
   "outputs": [],
   "source": [
    "df['Size_bytes'].fillna(df['Size_bytes'].median(), inplace=True)"
   ]
  },
  {
   "cell_type": "code",
   "execution_count": null,
   "id": "30d33374",
   "metadata": {},
   "outputs": [],
   "source": [
    "df['Size_bytes'].isnull().sum()"
   ]
  },
  {
   "cell_type": "code",
   "execution_count": null,
   "id": "3e44ab0a",
   "metadata": {},
   "outputs": [],
   "source": [
    "df.columns"
   ]
  },
  {
   "cell_type": "markdown",
   "id": "f8bc6098",
   "metadata": {},
   "source": [
    "- works on installs (columns )"
   ]
  },
  {
   "cell_type": "code",
   "execution_count": null,
   "id": "283ca936",
   "metadata": {},
   "outputs": [],
   "source": [
    "df['Installs'].unique"
   ]
  },
  {
   "cell_type": "markdown",
   "id": "a5e30ff5",
   "metadata": {},
   "source": [
    "- first remove the character (' ' , + )"
   ]
  },
  {
   "cell_type": "code",
   "execution_count": null,
   "id": "37bdf8c8",
   "metadata": {},
   "outputs": [],
   "source": [
    "df.dtypes"
   ]
  },
  {
   "cell_type": "markdown",
   "id": "8d5c624c",
   "metadata": {},
   "source": [
    "- install is ths float type \n",
    "- change into the string \n",
    "- remove the + and , \n",
    "- then change to the int "
   ]
  },
  {
   "cell_type": "code",
   "execution_count": null,
   "id": "ebb11704",
   "metadata": {},
   "outputs": [],
   "source": [
    "df['Installs'] = df['Installs'].astype(str)  # Convert to string\n",
    "\n",
    "df['Installs'] = df['Installs'].str.replace('+', '', regex=False)  # Remove '+'\n",
    "df['Installs'] = df['Installs'].str.replace(',', '', regex=False)  # Remove commas\n",
    "\n",
    "df['Installs'] = df['Installs'].astype(float)  # Convert to float first\n"
   ]
  },
  {
   "cell_type": "code",
   "execution_count": null,
   "id": "7aad724e",
   "metadata": {},
   "outputs": [],
   "source": [
    "df['Installs'].isnull().sum()"
   ]
  },
  {
   "cell_type": "code",
   "execution_count": null,
   "id": "5d8591f8",
   "metadata": {},
   "outputs": [],
   "source": []
  },
  {
   "cell_type": "code",
   "execution_count": null,
   "id": "aa61cdef",
   "metadata": {},
   "outputs": [],
   "source": [
    "df['Installs'] = df['Installs'].fillna(df['Installs'].median())\n"
   ]
  },
  {
   "cell_type": "code",
   "execution_count": null,
   "id": "27ee33ca",
   "metadata": {},
   "outputs": [],
   "source": [
    "df['Installs']= df['Installs'].astype(int)"
   ]
  },
  {
   "cell_type": "markdown",
   "id": "0ea95992",
   "metadata": {},
   "source": [
    "-  Install columns is clean "
   ]
  },
  {
   "cell_type": "code",
   "execution_count": null,
   "id": "5045993e",
   "metadata": {},
   "outputs": [],
   "source": [
    "print(df['Installs'])"
   ]
  },
  {
   "cell_type": "markdown",
   "id": "6daaf8c7",
   "metadata": {},
   "source": [
    "- price (column )"
   ]
  },
  {
   "cell_type": "code",
   "execution_count": null,
   "id": "e1fd02cd",
   "metadata": {},
   "outputs": [],
   "source": [
    "print(df['Price'])"
   ]
  },
  {
   "cell_type": "code",
   "execution_count": null,
   "id": "ea97181b",
   "metadata": {},
   "outputs": [],
   "source": [
    "df['Price'].unique()"
   ]
  },
  {
   "cell_type": "code",
   "execution_count": null,
   "id": "56d22e9e",
   "metadata": {},
   "outputs": [],
   "source": [
    "df['Price'].value_counts()"
   ]
  },
  {
   "cell_type": "code",
   "execution_count": null,
   "id": "86dab2bc",
   "metadata": {},
   "outputs": [],
   "source": [
    "# Convert to string\n",
    "df['Price'] = df['Price'].astype(str)\n",
    "\n",
    "# Remove dollar sign (if exists)\n",
    "df['Price'] = df['Price'].str.replace('$', '', regex=False).str.strip()\n",
    "\n",
    "# Convert to float\n",
    "df['Price'] = pd.to_numeric(df['Price'], errors='coerce')  # handles bad entries safely\n"
   ]
  },
  {
   "cell_type": "code",
   "execution_count": null,
   "id": "5de6fb57",
   "metadata": {},
   "outputs": [],
   "source": [
    "print(df['Price'].unique()[:20])      # Should show numbers like 0.0, 4.99, 1.99\n",
    "print(df['Price'].describe())         # Should show count, mean, min, max\n"
   ]
  },
  {
   "cell_type": "code",
   "execution_count": null,
   "id": "f1b192c1",
   "metadata": {},
   "outputs": [],
   "source": [
    "paid_apps = df[df['Price'] > 0]\n",
    "print(paid_apps[['App', 'Price']].head())\n"
   ]
  },
  {
   "cell_type": "code",
   "execution_count": null,
   "id": "4e670d4c",
   "metadata": {},
   "outputs": [],
   "source": [
    "df.describe()"
   ]
  },
  {
   "cell_type": "code",
   "execution_count": null,
   "id": "7b5deae1",
   "metadata": {},
   "outputs": [],
   "source": [
    "df.head()"
   ]
  },
  {
   "cell_type": "markdown",
   "id": "5b7097b9",
   "metadata": {},
   "source": [
    "- Age group"
   ]
  },
  {
   "cell_type": "code",
   "execution_count": null,
   "id": "40b01c83",
   "metadata": {},
   "outputs": [],
   "source": [
    "df['Age Group'].dtype"
   ]
  },
  {
   "cell_type": "markdown",
   "id": "f0b01181",
   "metadata": {},
   "source": [
    "- change the data type of Age Group  into category"
   ]
  },
  {
   "cell_type": "code",
   "execution_count": null,
   "id": "287635de",
   "metadata": {},
   "outputs": [],
   "source": [
    "df['Age Group']= df['Age Group'].astype('category')"
   ]
  },
  {
   "cell_type": "code",
   "execution_count": null,
   "id": "fe2e5ed1",
   "metadata": {},
   "outputs": [],
   "source": [
    "df['Age Group'].unique()"
   ]
  },
  {
   "cell_type": "markdown",
   "id": "4758de9f",
   "metadata": {},
   "source": [
    "- Genres "
   ]
  },
  {
   "cell_type": "code",
   "execution_count": null,
   "id": "12b024e4",
   "metadata": {},
   "outputs": [],
   "source": [
    "df['Genres'].dtype"
   ]
  },
  {
   "cell_type": "code",
   "execution_count": null,
   "id": "032c75fc",
   "metadata": {},
   "outputs": [],
   "source": [
    "df['Genres']=df['Genres'].astype('category')"
   ]
  },
  {
   "cell_type": "code",
   "execution_count": null,
   "id": "ea37ac90",
   "metadata": {},
   "outputs": [],
   "source": [
    "df['Genres'].unique()"
   ]
  },
  {
   "cell_type": "code",
   "execution_count": null,
   "id": "c4b2c04f",
   "metadata": {},
   "outputs": [],
   "source": [
    "df['Genres'].dtype"
   ]
  },
  {
   "cell_type": "code",
   "execution_count": null,
   "id": "4ee37da2",
   "metadata": {},
   "outputs": [],
   "source": [
    "df.dtypes"
   ]
  },
  {
   "cell_type": "code",
   "execution_count": null,
   "id": "42d08c5d",
   "metadata": {},
   "outputs": [],
   "source": [
    "df['Last Updated'].value_counts"
   ]
  },
  {
   "cell_type": "markdown",
   "id": "13293615",
   "metadata": {},
   "source": [
    "- change the data type of the last update from string to date time "
   ]
  },
  {
   "cell_type": "code",
   "execution_count": null,
   "id": "697131a1",
   "metadata": {},
   "outputs": [],
   "source": [
    "df['Last Updated']= pd.to_datetime(df['Last Updated'],errors='coerce')"
   ]
  },
  {
   "cell_type": "markdown",
   "id": "8912ddcd",
   "metadata": {},
   "source": [
    "- check the unique item "
   ]
  },
  {
   "cell_type": "code",
   "execution_count": null,
   "id": "7f8a8b05",
   "metadata": {},
   "outputs": [],
   "source": [
    "df['Last Updated'].unique()"
   ]
  },
  {
   "cell_type": "markdown",
   "id": "c75e4a0f",
   "metadata": {},
   "source": [
    "- check the data type "
   ]
  },
  {
   "cell_type": "code",
   "execution_count": null,
   "id": "55ae0650",
   "metadata": {},
   "outputs": [],
   "source": [
    "df['Last Updated'].dtype"
   ]
  },
  {
   "cell_type": "markdown",
   "id": "1e6efcdb",
   "metadata": {},
   "source": [
    "- Andriod Version change the data type "
   ]
  },
  {
   "cell_type": "code",
   "execution_count": null,
   "id": "36c54b36",
   "metadata": {},
   "outputs": [],
   "source": [
    "print(df['Android Ver'])"
   ]
  },
  {
   "cell_type": "markdown",
   "id": "d3ce4198",
   "metadata": {},
   "source": [
    "- change the data type "
   ]
  },
  {
   "cell_type": "code",
   "execution_count": null,
   "id": "4273369b",
   "metadata": {},
   "outputs": [],
   "source": [
    "df['Android Ver']= df['Android Ver'].astype('category')"
   ]
  },
  {
   "cell_type": "code",
   "execution_count": null,
   "id": "1172b7d3",
   "metadata": {},
   "outputs": [],
   "source": [
    "df['Android Ver'].dtype"
   ]
  },
  {
   "cell_type": "code",
   "execution_count": null,
   "id": "9c438a9b",
   "metadata": {},
   "outputs": [],
   "source": [
    "print(df['Android Ver'].value_counts())\n"
   ]
  },
  {
   "cell_type": "code",
   "execution_count": null,
   "id": "f07dd670",
   "metadata": {},
   "outputs": [],
   "source": [
    "df.describe()"
   ]
  },
  {
   "cell_type": "code",
   "execution_count": null,
   "id": "306da482",
   "metadata": {},
   "outputs": [],
   "source": [
    "df.isnull().sum()"
   ]
  },
  {
   "cell_type": "code",
   "execution_count": null,
   "id": "39daa10b",
   "metadata": {},
   "outputs": [],
   "source": [
    "df.dtypes"
   ]
  },
  {
   "cell_type": "markdown",
   "id": "143818e1",
   "metadata": {},
   "source": [
    "----\n",
    "- second step completed \n",
    "--- "
   ]
  },
  {
   "cell_type": "markdown",
   "id": "a06a263f",
   "metadata": {},
   "source": [
    "# Third step \n",
    "## Visulaization "
   ]
  },
  {
   "cell_type": "markdown",
   "id": "ddf8f680",
   "metadata": {},
   "source": [
    "- category of each app "
   ]
  },
  {
   "cell_type": "markdown",
   "id": "b0428b02",
   "metadata": {},
   "source": [
    "- Relation between Rating and installs "
   ]
  },
  {
   "cell_type": "markdown",
   "id": "4db8fffa",
   "metadata": {},
   "source": [
    "Situation\tBar Graph Use?\n",
    "Apps kis category mein zyada hain?\t✅ Yes\n",
    "Paid vs Free apps kitni hain?\t✅ Yes\n",
    "Kis Android version par apps zyada hain?\t✅ Yes\n",
    "Rating aur installs ka relationship kya hai?\t❌ No (Use scatter plot)\n",
    "Category-wise average rating kya hai?\t✅"
   ]
  },
  {
   "cell_type": "markdown",
   "id": "89d23c60",
   "metadata": {},
   "source": [
    "Situation\tUse Instead\n",
    "Two numeric variables\tScatter Plot\n",
    "Time series data\tLine Plot\n",
    "Distribution (1 numeric column)\tHistogram\n",
    "Box comparison of numeric vs cat\tBox Plot\n",
    "\n"
   ]
  },
  {
   "cell_type": "markdown",
   "id": "fc780b40",
   "metadata": {},
   "source": [
    "# checking free or paid app count "
   ]
  },
  {
   "cell_type": "code",
   "execution_count": null,
   "id": "b21a3a51",
   "metadata": {},
   "outputs": [],
   "source": [
    "df['Type'].value_counts()"
   ]
  },
  {
   "cell_type": "markdown",
   "id": "134d17dc",
   "metadata": {},
   "source": [
    "# Before ploting the graph first check the duplication "
   ]
  },
  {
   "cell_type": "code",
   "execution_count": null,
   "id": "96c7a7bc",
   "metadata": {},
   "outputs": [],
   "source": [
    "df.duplicated().sum()"
   ]
  },
  {
   "cell_type": "markdown",
   "id": "bced9824",
   "metadata": {},
   "source": [
    "- remove the duplication exact same rows and columns "
   ]
  },
  {
   "cell_type": "code",
   "execution_count": null,
   "id": "de9f34f3",
   "metadata": {},
   "outputs": [],
   "source": [
    "print(\"Before:\", df.shape)\n",
    "df = df.drop_duplicates()\n",
    "print(\"After:\", df.shape)\n"
   ]
  },
  {
   "cell_type": "markdown",
   "id": "9c7dafe6",
   "metadata": {},
   "source": [
    "- find duplicated App "
   ]
  },
  {
   "cell_type": "code",
   "execution_count": null,
   "id": "63503ab5",
   "metadata": {},
   "outputs": [],
   "source": [
    "df['App'].duplicated().sum()"
   ]
  },
  {
   "cell_type": "markdown",
   "id": "22dae5fa",
   "metadata": {},
   "source": [
    "# Top Categories (Count of Apps per Category)"
   ]
  },
  {
   "cell_type": "code",
   "execution_count": null,
   "id": "4751e1e9",
   "metadata": {},
   "outputs": [],
   "source": [
    "plt.figure(figsize=(12,6))\n",
    "top_category= df['Category'].value_counts().head(10)\n",
    "sns.barplot(x=top_category.index,y=top_category.values)\n",
    "plt.xticks(rotation=45)\n",
    "plt.title(\"Top 10 app category\")\n",
    "plt.ylabel('Number of app ')\n",
    "plt.xlabel(\"category\")\n",
    "plt.show()"
   ]
  },
  {
   "cell_type": "markdown",
   "id": "7e5dcbd8",
   "metadata": {},
   "source": [
    "# Rating Distribution"
   ]
  },
  {
   "cell_type": "code",
   "execution_count": null,
   "id": "2d41ba29",
   "metadata": {},
   "outputs": [],
   "source": [
    "plt.Figure(figsize=(10,5))\n",
    "sns.histplot(df['Rating'].dropna(), bins=30, kde=True)\n",
    "plt.title(\"Distribution of APP Rating  \")\n",
    "plt.xlabel('Rating')\n",
    "plt.ylabel(\"Number of App\")\n",
    "plt.show()"
   ]
  },
  {
   "cell_type": "markdown",
   "id": "75ce55c6",
   "metadata": {},
   "source": [
    "#  Free vs Paid Apps"
   ]
  },
  {
   "cell_type": "code",
   "execution_count": null,
   "id": "51ac94a3",
   "metadata": {},
   "outputs": [],
   "source": [
    "plt.Figure(figsize=(6,4))\n",
    "sns.countplot(x='Type',data=df)\n",
    "plt.title('Free  vs Paid apps ')\n",
    "plt.xlabel(\"App Type\")\n",
    "plt.ylabel(\"count\")\n",
    "plt.show()"
   ]
  },
  {
   "cell_type": "markdown",
   "id": "7790f96e",
   "metadata": {},
   "source": [
    "# Installs vs Rating "
   ]
  },
  {
   "cell_type": "code",
   "execution_count": null,
   "id": "6ce34efe",
   "metadata": {},
   "outputs": [],
   "source": [
    "plt.Figure(figsize=(10,6))\n",
    "sns.scatterplot(x='Installs',y='Rating', data=df,alpha=0.5)\n",
    "plt.xscale('log')\n",
    "plt.title('Rating vs Installs')\n",
    "plt.xlabel('Install(log scale)')\n",
    "plt.ylabel('Rating ')\n",
    "plt.show()"
   ]
  },
  {
   "cell_type": "markdown",
   "id": "245d6d20",
   "metadata": {},
   "source": [
    "#  Price Distribution for Paid Apps"
   ]
  },
  {
   "cell_type": "code",
   "execution_count": null,
   "id": "65c9d9d1",
   "metadata": {},
   "outputs": [],
   "source": [
    "plt.figure(figsize=(10,4))\n",
    "sns.histplot(df[df['Type']=='Paid']['Price'],bins=40)\n",
    "plt.title('Price Distribution of Paid Apps')\n",
    "plt.xlabel(\"Price\")\n",
    "plt.ylabel(\"Number of Apps\")\n",
    "plt.show()"
   ]
  },
  {
   "cell_type": "markdown",
   "id": "d5eea1b5",
   "metadata": {},
   "source": [
    "# Category-wise Rating & Price Distribution"
   ]
  },
  {
   "cell_type": "code",
   "execution_count": null,
   "id": "36b00956",
   "metadata": {},
   "outputs": [],
   "source": [
    "top10_categories = df['Category'].value_counts().head(10).index\n",
    "filtered_df = df[df['Category'].isin(top10_categories)]\n",
    "plt.figure(figsize=(12,6))\n",
    "sns.boxplot(x='Category',y='Rating',data=filtered_df)\n",
    "plt.title('App Rating by category')\n",
    "plt.show()"
   ]
  },
  {
   "cell_type": "markdown",
   "id": "07909570",
   "metadata": {},
   "source": [
    "# Correlation Matrix (Heatmap)"
   ]
  },
  {
   "cell_type": "code",
   "execution_count": null,
   "id": "17f7e3d7",
   "metadata": {},
   "outputs": [],
   "source": [
    "plt.figure(figsize=(10,6))\n",
    "corr = df[['Rating', 'Reviews', 'Installs', 'Price', 'Size_bytes']].corr()\n",
    "sns.heatmap(corr, annot=True, cmap='coolwarm')\n",
    "plt.title(\"Correlation Between Numeric Features\")\n",
    "plt.show()\n"
   ]
  },
  {
   "cell_type": "markdown",
   "id": "e2b09ee1",
   "metadata": {},
   "source": [
    "#  Trend Over Time: Last Updated"
   ]
  },
  {
   "cell_type": "code",
   "execution_count": null,
   "id": "93f33fd4",
   "metadata": {},
   "outputs": [],
   "source": [
    "df['Year Updated'] = df['Last Updated'].dt.year\n",
    "plt.figure(figsize=(10,5))\n",
    "df['Year Updated'].value_counts().sort_index().plot(kind='bar')\n",
    "plt.title('Number of Apps Updated Per Year')\n",
    "plt.xlabel('Year')\n",
    "plt.ylabel('Number of Apps Updated')\n",
    "plt.show()\n"
   ]
  },
  {
   "cell_type": "markdown",
   "id": "f7d29504",
   "metadata": {},
   "source": [
    "-----\n",
    "- Third step is completed \n",
    "---"
   ]
  },
  {
   "cell_type": "markdown",
   "id": "ee9a8f68",
   "metadata": {},
   "source": [
    "- pending (remove OUtliears)\n",
    "- for ML (train model by this data )"
   ]
  }
 ],
 "metadata": {
  "kernelspec": {
   "display_name": "python_ml",
   "language": "python",
   "name": "python3"
  },
  "language_info": {
   "codemirror_mode": {
    "name": "ipython",
    "version": 3
   },
   "file_extension": ".py",
   "mimetype": "text/x-python",
   "name": "python",
   "nbconvert_exporter": "python",
   "pygments_lexer": "ipython3",
   "version": "3.10.16"
  }
 },
 "nbformat": 4,
 "nbformat_minor": 5
}
